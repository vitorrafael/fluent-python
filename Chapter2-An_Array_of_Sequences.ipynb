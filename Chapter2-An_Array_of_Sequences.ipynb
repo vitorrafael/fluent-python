{
 "cells": [
  {
   "cell_type": "markdown",
   "metadata": {},
   "source": [
    "## Visão Geral das Sequências Embutidas\n",
    "\n",
    "<p> A <b>Bilioteca-padrão</b> disponibiliza um conjunto de tipos de sequências implementadas em C.<br>\n",
    "    Essas sequências podem ser divididas em diversas formas, como, por exemplo, os tipos que armazenam:\n",
    "</p>\n",
    "\n",
    "  * **_Sequências Container:_** **Armazenam itens de diferentes tipos,** referenciam os objetos que contêm.\n",
    "       - List\n",
    "       - Tuple\n",
    "       - Collections.deque\n",
    "  * **_Sequências simples:_** **Armazenam itens de um só tipo,** armazenam fisicamente o valor de cada item em seu próprio espaço de memória\n",
    "       - Str\n",
    "       - Bytes\n",
    "       - Bytearray\n",
    "       - Memoryview\n",
    "       - Array.array\n",
    "       \n",
    "<p> Ou de acordo com a <b>mutabilidade:</b> </p>\n",
    "\n",
    "  * **_Sequências mutáveis:_**\n",
    "      - List\n",
    "      - Bytearray\n",
    "      - Array.array\n",
    "      - Collections.deque\n",
    "      - Memoryview\n",
    "  * **_Sequências Imutáveis:_**\n",
    "      - Tuple\n",
    "      - Str\n",
    "      - Bytes\n",
    "      \n",
    "<p>    As sequências mutáveis se diferenciam das imutáveis ao mesmo tempo que <b>herdam metódos</b> delas. Apesar de não serem subclasses das <i>abstract data classes</i>, estas são utilizadas para formalizar as funcionalidades esperadas de um tipo de sequência completo.<br>    Ter em mente esse traços - <b>mutável vs imutável; container vs simples</b> - é útil para extrapolar o que é conhecido sobre um tipo de sequência em comparação com outro</p>\n",
    "\n",
    "## List Comprehensions e Expressões Geradoras\n",
    "\n",
    "   * Alvo: List -> List Comprehension (listcomps)\n",
    "   * Quaisquer outros tipos de sequência -> Expressão Geradora (genexps)\n",
    "   \n",
    "   - Torna o código mais legível e, até mesmo, mais rápido"
   ]
  },
  {
   "cell_type": "code",
   "execution_count": 2,
   "metadata": {},
   "outputs": [
    {
     "data": {
      "text/plain": [
       "[36, 162, 163, 165, 8364, 164]"
      ]
     },
     "execution_count": 2,
     "metadata": {},
     "output_type": "execute_result"
    }
   ],
   "source": [
    "# Criar uma lista de códigos Unicode a partir de uma string -> Sem listcomps\n",
    "symbols = '$¢£¥€¤'\n",
    "codes = []\n",
    "for symbol in symbols:\n",
    "    codes.append(ord(symbol))\n",
    "codes"
   ]
  },
  {
   "cell_type": "code",
   "execution_count": 3,
   "metadata": {},
   "outputs": [
    {
     "data": {
      "text/plain": [
       "[36, 162, 163, 165, 8364, 164]"
      ]
     },
     "execution_count": 3,
     "metadata": {},
     "output_type": "execute_result"
    }
   ],
   "source": [
    "# Com List comprehension\n",
    "symbols = '$¢£¥€¤'\n",
    "codes = [ord(symbol) for symbol in symbols]\n",
    "codes"
   ]
  },
  {
   "cell_type": "markdown",
   "metadata": {},
   "source": [
    "<p>O propósito da list comprehension é mais <b>explícito</b>, uma vez que o laço <i>for</i> pode ser utilizado para diferentes tarefas.<br>Entretanto, as listcomps podem também deixar um código ilegível, portanto utilize-as somente se vai <b>utilizar a lista gerada</b>.<br> Além disso, procure deixá-la <b>concisa</b>, se ela ocupar duas linhas provavelmente será melhor quebrá-la em partes ou reescrevê-la em um laço for</p>\n",
    "<p>Em Python, as quebras de linhas são ignoradas entre pares [], {} e (), assim, para criar listas, listcomps, genexps, dicionários e outras estruturas com multiplas linhas, não é necessário usar '\\'</p>"
   ]
  },
  {
   "cell_type": "code",
   "execution_count": 4,
   "metadata": {},
   "outputs": [
    {
     "name": "stdout",
     "output_type": "stream",
     "text": [
      "ABC\n",
      "[65, 66, 67]\n"
     ]
    }
   ],
   "source": [
    "# As listcomps não afetam o escopo ao redor delas, apartir do Python3, ainda que possam utilizar do mesmo\n",
    "x = 'ABC'\n",
    "dummy = [ord(x) for x in x]\n",
    "print(x) # ABC\n",
    "print(dummy) # [65, 66, 67]\n",
    "# O valor x é preservado e a lista ainda é gerada"
   ]
  },
  {
   "cell_type": "code",
   "execution_count": 5,
   "metadata": {},
   "outputs": [
    {
     "name": "stdout",
     "output_type": "stream",
     "text": [
      "[162, 163, 165, 8364, 164]\n",
      "[162, 163, 165, 8364, 164]\n"
     ]
    }
   ],
   "source": [
    "\"\"\"\n",
    "As listcomps criam listas apartir de iteráveis.\n",
    "As funções filter e map também fazem o mesmo, porém a legibilidade será prejudicada devido ao limitado lambda\n",
    "\"\"\"\n",
    "\n",
    "symbols = '$¢£¥€¤'\n",
    "beyond_ascii = [ord(s) for s in symbols if ord(s) > 127] # Mais legível e rápido\n",
    "print(beyond_ascii)\n",
    "beyond_ascii = list(filter(lambda c: c > 127, map(ord, symbols))) # Pior legibilidade\n",
    "print(beyond_ascii)"
   ]
  },
  {
   "cell_type": "code",
   "execution_count": 7,
   "metadata": {},
   "outputs": [
    {
     "data": {
      "text/plain": [
       "[('black', 'S'),\n",
       " ('black', 'M'),\n",
       " ('black', 'L'),\n",
       " ('white', 'S'),\n",
       " ('white', 'M'),\n",
       " ('white', 'L')]"
      ]
     },
     "execution_count": 7,
     "metadata": {},
     "output_type": "execute_result"
    }
   ],
   "source": [
    "# As listcomps podem gerar listas a partir do produto cartesiano de dois ou mais iteráveis\n",
    "colors = ['black', 'white']\n",
    "sizes = ['S', 'M', 'L']\n",
    "tshirts = [(color, size) for color in colors for size in sizes] # Tamanho = len(colors) * len(sizes)\n",
    "tshirts"
   ]
  },
  {
   "cell_type": "code",
   "execution_count": 10,
   "metadata": {},
   "outputs": [
    {
     "name": "stdout",
     "output_type": "stream",
     "text": [
      "('black', 'S')\n",
      "('black', 'M')\n",
      "('black', 'L')\n",
      "('white', 'S')\n",
      "('white', 'M')\n",
      "('white', 'L')\n"
     ]
    }
   ],
   "source": [
    "# Não muito elegante\n",
    "\"\"\" Os loops for estão aninhados na mesma ordem que aparecem em listcomp. \"\"\"\n",
    "for color in colors:\n",
    "    for size in sizes:\n",
    "        print((color, size))"
   ]
  },
  {
   "cell_type": "code",
   "execution_count": 11,
   "metadata": {},
   "outputs": [
    {
     "data": {
      "text/plain": [
       "[('black', 'S'),\n",
       " ('white', 'S'),\n",
       " ('black', 'M'),\n",
       " ('white', 'M'),\n",
       " ('black', 'L'),\n",
       " ('white', 'L')]"
      ]
     },
     "execution_count": 11,
     "metadata": {},
     "output_type": "execute_result"
    }
   ],
   "source": [
    "# Elegante e altamente legível\n",
    "tshirts = [(color, size) for size in sizes\n",
    "                         for color in colors]\n",
    "tshirts"
   ]
  },
  {
   "cell_type": "code",
   "execution_count": 12,
   "metadata": {},
   "outputs": [
    {
     "name": "stdout",
     "output_type": "stream",
     "text": [
      "(36, 162, 163, 165, 8364, 164)\n",
      "array('I', [36, 162, 163, 165, 8364, 164])\n"
     ]
    }
   ],
   "source": [
    "\"\"\"\n",
    "    Para inicializar outros tipos de sequência - além de listas - são utilizadas genexps invés de listcomps,\n",
    "pois elas economizam memória uma vez que geram itens um por um utilizando o protocolo de iteradores\n",
    "\"\"\"\n",
    "\n",
    "# Inicializando uma tupla e uma array a partir de uma genexps\n",
    "symbols = '$¢£¥€¤'\n",
    "t_exp = tuple(ord(symbol) for symbol in symbols) # Se a genexp for o único argumento em uma chamada não é preciso\n",
    "                                                 # dois parênteses\n",
    "print(t_exp)\n",
    "\n",
    "import array\n",
    "# O construtor array aceita dois argumentos, portanto os parênteses são obrigatórios\n",
    "array_exp = array.array('I', (ord(symbol) for symbol in symbols)) \n",
    "print(array_exp)"
   ]
  },
  {
   "cell_type": "code",
   "execution_count": 13,
   "metadata": {},
   "outputs": [
    {
     "name": "stdout",
     "output_type": "stream",
     "text": [
      "black S\n",
      "black M\n",
      "black L\n",
      "white S\n",
      "white M\n",
      "white L\n"
     ]
    }
   ],
   "source": [
    "\"\"\"\n",
    "Uso de genexp com um produto cartesiano\n",
    "A lista não é criada na memoria, os itens são criados um a um e, assim, a genexp evita o custo de criar uma\n",
    "lista gigantesca.\n",
    "\"\"\"\n",
    "colors = ['black', 'white']\n",
    "sizes = ['S', 'M', 'L']\n",
    "for tshirt in ('%s %s' % (c, s) for c in colors for s in sizes):\n",
    "    # Uma lista com as variações jamais será construída\n",
    "    print(tshirt)"
   ]
  },
  {
   "cell_type": "markdown",
   "metadata": {},
   "source": [
    "# Tuplas\n",
    "\n",
    " As tuplas possuem **dupla função**:\n",
    "  - Serem utilizadas como listas imutáveis;\n",
    "  - Registros sem nome de campos;"
   ]
  },
  {
   "cell_type": "code",
   "execution_count": 2,
   "metadata": {},
   "outputs": [
    {
     "name": "stdout",
     "output_type": "stream",
     "text": [
      "BRA/CE342567\n",
      "ESP/XDA205856\n",
      "USA/31195855\n",
      "USA\n",
      "BRA\n",
      "ESP\n"
     ]
    }
   ],
   "source": [
    "# Utilização de tuplas como registros\n",
    "lax_coordinates = (33.9425, -118.408056) # Quantidade de itens fixa e a ordem é importante\n",
    "city, year, pop, chg, area = ('Tokyo', 2003, 32450, 0.66, 8014)\n",
    "travelers_id = [('USA', '31195855'), ('BRA', 'CE342567'),\n",
    "                ('ESP', 'XDA205856')]\n",
    "for passport in sorted(travelers_id):\n",
    "    print('%s/%s' % passport)\n",
    "    \n",
    "for country, _ in travelers_id: # Tuple unpacking\n",
    "    print(country)"
   ]
  },
  {
   "cell_type": "markdown",
   "metadata": {},
   "source": [
    "### Desempacotamento de Tuplas\n",
    "   O desempacotamento de tuplas funciona com qualquer iterável desde que este gere exatamente um item por variável na tupla recpetora, a não ser que um asterisco seja utilizado para capturar os itens excedentes. Apesar de amplamente usado, o termo desempacotamento de tuplas está sendo substituido por desempacotamento de iteráveis."
   ]
  },
  {
   "cell_type": "code",
   "execution_count": 5,
   "metadata": {},
   "outputs": [
    {
     "name": "stdout",
     "output_type": "stream",
     "text": [
      "33.9425\n",
      "-118.408056\n"
     ]
    }
   ],
   "source": [
    "# A forma mais visível do tuple unpacking é o parallel assignment\n",
    "lax_coordinates = (33.9425, -118.408056)\n",
    "latitude, longitude = lax_coordinates  # Tuple unpacking\n",
    "print(latitude)\n",
    "print(longitude)"
   ]
  },
  {
   "cell_type": "code",
   "execution_count": 7,
   "metadata": {},
   "outputs": [
    {
     "name": "stdout",
     "output_type": "stream",
     "text": [
      "1 2\n",
      "2 1\n"
     ]
    }
   ],
   "source": [
    "# Outra aplicação elegante do desempacotamento de tuplas é o swap de duas varíaveis sem uma temporária\n",
    "a = 1\n",
    "b = 2\n",
    "print(a, b)\n",
    "a, b = b, a\n",
    "print(a, b)"
   ]
  },
  {
   "cell_type": "code",
   "execution_count": 10,
   "metadata": {},
   "outputs": [
    {
     "name": "stdout",
     "output_type": "stream",
     "text": [
      "(2, 4)\n",
      "(2, 4)\n"
     ]
    },
    {
     "data": {
      "text/plain": [
       "(2, 4)"
      ]
     },
     "execution_count": 10,
     "metadata": {},
     "output_type": "execute_result"
    }
   ],
   "source": [
    "# Outro exemplo consiste em prefixar um argumento com um asterisco ao chamar uma função\n",
    "print(divmod(20, 8))\n",
    "t = (20, 8)\n",
    "print(divmod(*t))\n",
    "quotient, remainder = divmod(*t)\n",
    "quotient, remainder"
   ]
  },
  {
   "cell_type": "code",
   "execution_count": 11,
   "metadata": {},
   "outputs": [
    {
     "data": {
      "text/plain": [
       "'x.csv'"
      ]
     },
     "execution_count": 11,
     "metadata": {},
     "output_type": "execute_result"
    }
   ],
   "source": [
    "# Outra utilização é o retorno das funções que devolvem diversos valores dentro de uma tupla\n",
    "import os\n",
    "_, filename = os.path.split('/home/vitor/dev/x.csv') # Esta função cria a tupla (path, last_part)\n",
    "\"\"\"\n",
    "    Quando estamos interessados em apenas uma parte da tupla ao desempacotar, podemos utilizar uma variável\n",
    "descartável como _ . Entretanto, ao escrever softwares internacionalizados, este símbolo não é recomendavel\n",
    "uma vez que é tradicionalmente usado na documentação do módulo gettext\n",
    "\"\"\"\n",
    "filename"
   ]
  },
  {
   "cell_type": "code",
   "execution_count": 13,
   "metadata": {},
   "outputs": [
    {
     "data": {
      "text/plain": [
       "(0, 1, [2, 3, 4])"
      ]
     },
     "execution_count": 13,
     "metadata": {},
     "output_type": "execute_result"
    }
   ],
   "source": [
    "# O * também pode ser usado para capturar itens excedentes\n",
    "a, b, *rest = range(5)\n",
    "a, b, rest"
   ]
  },
  {
   "cell_type": "code",
   "execution_count": 15,
   "metadata": {},
   "outputs": [
    {
     "data": {
      "text/plain": [
       "(0, 1, [2])"
      ]
     },
     "execution_count": 15,
     "metadata": {},
     "output_type": "execute_result"
    }
   ],
   "source": [
    "a, b, *rest = range(3)\n",
    "a, b, rest"
   ]
  },
  {
   "cell_type": "code",
   "execution_count": 16,
   "metadata": {},
   "outputs": [
    {
     "data": {
      "text/plain": [
       "(0, 1, [])"
      ]
     },
     "execution_count": 16,
     "metadata": {},
     "output_type": "execute_result"
    }
   ],
   "source": [
    "a, b, *rest = range(2)\n",
    "a, b, rest"
   ]
  },
  {
   "cell_type": "code",
   "execution_count": 17,
   "metadata": {},
   "outputs": [
    {
     "data": {
      "text/plain": [
       "([0, 1], 2, 3, 4)"
      ]
     },
     "execution_count": 17,
     "metadata": {},
     "output_type": "execute_result"
    }
   ],
   "source": [
    "# O prefixo * pode aparecer em qualquer posição\n",
    "*head, b, c, d = range(5)\n",
    "head, b, c, d"
   ]
  },
  {
   "cell_type": "code",
   "execution_count": null,
   "metadata": {},
   "outputs": [],
   "source": []
  }
 ],
 "metadata": {
  "kernelspec": {
   "display_name": "Python 3",
   "language": "python",
   "name": "python3"
  },
  "language_info": {
   "codemirror_mode": {
    "name": "ipython",
    "version": 3
   },
   "file_extension": ".py",
   "mimetype": "text/x-python",
   "name": "python",
   "nbconvert_exporter": "python",
   "pygments_lexer": "ipython3",
   "version": "3.7.4"
  }
 },
 "nbformat": 4,
 "nbformat_minor": 2
}
