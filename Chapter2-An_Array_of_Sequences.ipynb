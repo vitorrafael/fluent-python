{
 "cells": [
  {
   "cell_type": "markdown",
   "metadata": {},
   "source": [
    "## Visão Geral das Sequências Embutidas\n",
    "\n",
    "<p> A <b>Bilioteca-padrão</b> disponibiliza um conjunto de tipos de sequências implementadas em C.<br>\n",
    "    Essas sequências podem ser divididas em diversas formas, como, por exemplo, os tipos que armazenam:\n",
    "</p>\n",
    "\n",
    "  * **_Sequências Container:_** **Armazenam itens de diferentes tipos,** referenciam os objetos que contêm.\n",
    "       - List\n",
    "       - Tuple\n",
    "       - Collections.deque\n",
    "  * **_Sequências simples:_** **Armazenam itens de um só tipo,** armazenam fisicamente o valor de cada item em seu próprio espaço de memória\n",
    "       - Str\n",
    "       - Bytes\n",
    "       - Bytearray\n",
    "       - Memoryview\n",
    "       - Array.array\n",
    "       \n",
    "<p> Ou de acordo com a <b>mutabilidade:</b> </p>\n",
    "\n",
    "  * **_Sequências mutáveis:_**\n",
    "      - List\n",
    "      - Bytearray\n",
    "      - Array.array\n",
    "      - Collections.deque\n",
    "      - Memoryview\n",
    "  * **_Sequências Imutáveis:_**\n",
    "      - Tuple\n",
    "      - Str\n",
    "      - Bytes\n",
    "      \n",
    "<p>    As sequências mutáveis se diferenciam das imutáveis ao mesmo tempo que <b>herdam metódos</b> delas. Apesar de não serem subclasses das <i>abstract data classes</i>, estas são utilizadas para formalizar as funcionalidades esperadas de um tipo de sequência completo.<br>    Ter em mente esse traços - <b>mutável vs imutável; container vs simples</b> - é útil para extrapolar o que é conhecido sobre um tipo de sequência em comparação com outro</p>\n",
    "\n",
    "## List Comprehensions e Expressões Geradoras\n",
    "\n",
    "   * Alvo: List -> List Comprehension (listcomps)\n",
    "   * Quaisquer outros tipos de sequência -> Expressão Geradora (genexps)\n",
    "   \n",
    "   - Torna o código mais legível e, até mesmo, mais rápido"
   ]
  },
  {
   "cell_type": "code",
   "execution_count": 1,
   "metadata": {},
   "outputs": [
    {
     "data": {
      "text/plain": [
       "[36, 162, 163, 165, 8364, 164]"
      ]
     },
     "execution_count": 1,
     "metadata": {},
     "output_type": "execute_result"
    }
   ],
   "source": [
    "# Criar uma lista de códigos Unicode a partir de uma string -> Sem listcomps\n",
    "symbols = '$¢£¥€¤'\n",
    "codes = []\n",
    "for symbol in symbols:\n",
    "    codes.append(ord(symbol))\n",
    "codes"
   ]
  },
  {
   "cell_type": "code",
   "execution_count": 2,
   "metadata": {},
   "outputs": [
    {
     "data": {
      "text/plain": [
       "[36, 162, 163, 165, 8364, 164]"
      ]
     },
     "execution_count": 2,
     "metadata": {},
     "output_type": "execute_result"
    }
   ],
   "source": [
    "# Com List comprehension\n",
    "symbols = '$¢£¥€¤'\n",
    "codes = [ord(symbol) for symbol in symbols]\n",
    "codes"
   ]
  },
  {
   "cell_type": "markdown",
   "metadata": {},
   "source": [
    "<p>O propósito da list comprehension é mais <b>explícito</b>, uma vez que o laço <i>for</i> pode ser utilizado para diferentes tarefas.<br>Entretanto, as listcomps podem também deixar um código ilegível, portanto utilize-as somente se vai <b>utilizar a lista gerada</b>.<br> Além disso, procure deixá-la <b>concisa</b>, se ela ocupar duas linhas provavelmente será melhor quebrá-la em partes ou reescrevê-la em um laço for</p>\n",
    "<p>Em Python, as quebras de linhas são ignoradas entre pares [], {} e (), assim, para criar listas, listcomps, genexps, dicionários e outras estruturas com multiplas linhas, não é necessário usar '\\'</p>"
   ]
  },
  {
   "cell_type": "code",
   "execution_count": 3,
   "metadata": {},
   "outputs": [
    {
     "name": "stdout",
     "output_type": "stream",
     "text": [
      "ABC\n",
      "[65, 66, 67]\n"
     ]
    }
   ],
   "source": [
    "# As listcomps não afetam o escopo ao redor delas, apartir do Python3, ainda que possam utilizar do mesmo\n",
    "x = 'ABC'\n",
    "dummy = [ord(x) for x in x]\n",
    "print(x) # ABC\n",
    "print(dummy) # [65, 66, 67]\n",
    "# O valor x é preservado e a lista ainda é gerada"
   ]
  },
  {
   "cell_type": "code",
   "execution_count": 5,
   "metadata": {},
   "outputs": [
    {
     "name": "stdout",
     "output_type": "stream",
     "text": [
      "[162, 163, 165, 8364, 164]\n",
      "[162, 163, 165, 8364, 164]\n"
     ]
    }
   ],
   "source": [
    "\"\"\"\n",
    "As listcomps criam listas apartir de iteráveis.\n",
    "As funções filter e map também fazem o mesmo, porém a legibilidade será prejudicada devido ao limitado lambda\n",
    "\"\"\"\n",
    "\n",
    "symbols = '$¢£¥€¤'\n",
    "beyond_ascii = [ord(s) for s in symbols if ord(s) > 127] # Mais legível e rápido\n",
    "print(beyond_ascii)\n",
    "beyond_ascii = list(filter(lambda c: c > 127, map(ord, symbols))) # Pior legibilidade\n",
    "print(beyond_ascii)"
   ]
  },
  {
   "cell_type": "code",
   "execution_count": 7,
   "metadata": {},
   "outputs": [
    {
     "data": {
      "text/plain": [
       "[('black', 'S'),\n",
       " ('black', 'M'),\n",
       " ('black', 'L'),\n",
       " ('white', 'S'),\n",
       " ('white', 'M'),\n",
       " ('white', 'L')]"
      ]
     },
     "execution_count": 7,
     "metadata": {},
     "output_type": "execute_result"
    }
   ],
   "source": [
    "# As listcomps podem gerar listas a partir do produto cartesiano de dois ou mais iteráveis\n",
    "colors = ['black', 'white']\n",
    "sizes = ['S', 'M', 'L']\n",
    "tshirts = [(color, size) for color in colors for size in sizes] # Tamanho = len(colors) * len(sizes)\n",
    "tshirts"
   ]
  },
  {
   "cell_type": "code",
   "execution_count": 10,
   "metadata": {},
   "outputs": [
    {
     "name": "stdout",
     "output_type": "stream",
     "text": [
      "('black', 'S')\n",
      "('black', 'M')\n",
      "('black', 'L')\n",
      "('white', 'S')\n",
      "('white', 'M')\n",
      "('white', 'L')\n"
     ]
    }
   ],
   "source": [
    "# Não muito elegante\n",
    "\"\"\" Os loops for estão aninhados na mesma ordem que aparecem em listcomp. \"\"\"\n",
    "for color in colors:\n",
    "    for size in sizes:\n",
    "        print((color, size))"
   ]
  },
  {
   "cell_type": "code",
   "execution_count": 11,
   "metadata": {},
   "outputs": [
    {
     "data": {
      "text/plain": [
       "[('black', 'S'),\n",
       " ('white', 'S'),\n",
       " ('black', 'M'),\n",
       " ('white', 'M'),\n",
       " ('black', 'L'),\n",
       " ('white', 'L')]"
      ]
     },
     "execution_count": 11,
     "metadata": {},
     "output_type": "execute_result"
    }
   ],
   "source": [
    "# Elegante e altamente legível\n",
    "tshirts = [(color, size) for size in sizes\n",
    "                         for color in colors]\n",
    "tshirts"
   ]
  },
  {
   "cell_type": "code",
   "execution_count": 12,
   "metadata": {},
   "outputs": [
    {
     "name": "stdout",
     "output_type": "stream",
     "text": [
      "(36, 162, 163, 165, 8364, 164)\n",
      "array('I', [36, 162, 163, 165, 8364, 164])\n"
     ]
    }
   ],
   "source": [
    "\"\"\"\n",
    "    Para inicializar outros tipos de sequência - além de listas - são utilizadas genexps invés de listcomps,\n",
    "pois elas economizam memória uma vez que geram itens um por um utilizando o protocolo de iteradores\n",
    "\"\"\"\n",
    "\n",
    "# Inicializando uma tupla e uma array a partir de uma genexps\n",
    "symbols = '$¢£¥€¤'\n",
    "t_exp = tuple(ord(symbol) for symbol in symbols) # Se a genexp for o único argumento em uma chamada não é preciso\n",
    "                                                 # dois parênteses\n",
    "print(t_exp)\n",
    "\n",
    "import array\n",
    "# O construtor array aceita dois argumentos, portanto os parênteses são obrigatórios\n",
    "array_exp = array.array('I', (ord(symbol) for symbol in symbols)) \n",
    "print(array_exp)"
   ]
  },
  {
   "cell_type": "code",
   "execution_count": 13,
   "metadata": {},
   "outputs": [
    {
     "name": "stdout",
     "output_type": "stream",
     "text": [
      "black S\n",
      "black M\n",
      "black L\n",
      "white S\n",
      "white M\n",
      "white L\n"
     ]
    }
   ],
   "source": [
    "\"\"\"\n",
    "Uso de genexp com um produto cartesiano\n",
    "A lista não é criada na memoria, os itens são criados um a um e, assim, a genexp evita o custo de criar uma\n",
    "lista gigantesca.\n",
    "\"\"\"\n",
    "colors = ['black', 'white']\n",
    "sizes = ['S', 'M', 'L']\n",
    "for tshirt in ('%s %s' % (c, s) for c in colors for s in sizes):\n",
    "    # Uma lista com as variações jamais será construída\n",
    "    print(tshirt)"
   ]
  },
  {
   "cell_type": "markdown",
   "metadata": {},
   "source": [
    "# Tuplas\n",
    "\n",
    " As tuplas possuem **dupla função**:\n",
    "  - Serem utilizadas como listas imutáveis;\n",
    "  - Registros sem nome de campos;\n",
    "  \n",
    "## Tuplas como listas imutáveis\n",
    "   Basicamente, as tuplas herdam das lists todos os methods que não alteram - acrescentam ou removem - o seu conteúdo, com a exceção do __\\_\\_reversed____.\n",
    "   \n",
    "## Tuplas como Registros:"
   ]
  },
  {
   "cell_type": "code",
   "execution_count": 2,
   "metadata": {},
   "outputs": [
    {
     "name": "stdout",
     "output_type": "stream",
     "text": [
      "BRA/CE342567\n",
      "ESP/XDA205856\n",
      "USA/31195855\n",
      "USA\n",
      "BRA\n",
      "ESP\n"
     ]
    }
   ],
   "source": [
    "# Utilização de tuplas como registros\n",
    "lax_coordinates = (33.9425, -118.408056) # Quantidade de itens fixa e a ordem é importante\n",
    "city, year, pop, chg, area = ('Tokyo', 2003, 32450, 0.66, 8014)\n",
    "travelers_id = [('USA', '31195855'), ('BRA', 'CE342567'),\n",
    "                ('ESP', 'XDA205856')]\n",
    "for passport in sorted(travelers_id):\n",
    "    print('%s/%s' % passport)\n",
    "    \n",
    "for country, _ in travelers_id: # Tuple unpacking\n",
    "    print(country)"
   ]
  },
  {
   "cell_type": "markdown",
   "metadata": {},
   "source": [
    "### Desempacotamento de Tuplas\n",
    "   O desempacotamento de tuplas funciona com qualquer iterável desde que este gere exatamente um item por variável na tupla recpetora, a não ser que um asterisco seja utilizado para capturar os itens excedentes. Apesar de amplamente usado, o termo desempacotamento de tuplas está sendo substituido por desempacotamento de iteráveis."
   ]
  },
  {
   "cell_type": "code",
   "execution_count": 5,
   "metadata": {},
   "outputs": [
    {
     "name": "stdout",
     "output_type": "stream",
     "text": [
      "33.9425\n",
      "-118.408056\n"
     ]
    }
   ],
   "source": [
    "# A forma mais visível do tuple unpacking é o parallel assignment\n",
    "lax_coordinates = (33.9425, -118.408056)\n",
    "latitude, longitude = lax_coordinates  # Tuple unpacking\n",
    "print(latitude)\n",
    "print(longitude)"
   ]
  },
  {
   "cell_type": "code",
   "execution_count": 7,
   "metadata": {},
   "outputs": [
    {
     "name": "stdout",
     "output_type": "stream",
     "text": [
      "1 2\n",
      "2 1\n"
     ]
    }
   ],
   "source": [
    "# Outra aplicação elegante do desempacotamento de tuplas é o swap de duas varíaveis sem uma temporária\n",
    "a = 1\n",
    "b = 2\n",
    "print(a, b)\n",
    "a, b = b, a\n",
    "print(a, b)"
   ]
  },
  {
   "cell_type": "code",
   "execution_count": 10,
   "metadata": {},
   "outputs": [
    {
     "name": "stdout",
     "output_type": "stream",
     "text": [
      "(2, 4)\n",
      "(2, 4)\n"
     ]
    },
    {
     "data": {
      "text/plain": [
       "(2, 4)"
      ]
     },
     "execution_count": 10,
     "metadata": {},
     "output_type": "execute_result"
    }
   ],
   "source": [
    "# Outro exemplo consiste em prefixar um argumento com um asterisco ao chamar uma função\n",
    "print(divmod(20, 8))\n",
    "t = (20, 8)\n",
    "print(divmod(*t))\n",
    "quotient, remainder = divmod(*t)\n",
    "quotient, remainder"
   ]
  },
  {
   "cell_type": "code",
   "execution_count": 11,
   "metadata": {},
   "outputs": [
    {
     "data": {
      "text/plain": [
       "'x.csv'"
      ]
     },
     "execution_count": 11,
     "metadata": {},
     "output_type": "execute_result"
    }
   ],
   "source": [
    "# Outra utilização é o retorno das funções que devolvem diversos valores dentro de uma tupla\n",
    "import os\n",
    "_, filename = os.path.split('/home/vitor/dev/x.csv') # Esta função cria a tupla (path, last_part)\n",
    "\"\"\"\n",
    "    Quando estamos interessados em apenas uma parte da tupla ao desempacotar, podemos utilizar uma variável\n",
    "descartável como _ . Entretanto, ao escrever softwares internacionalizados, este símbolo não é recomendavel\n",
    "uma vez que é tradicionalmente usado na documentação do módulo gettext\n",
    "\"\"\"\n",
    "filename"
   ]
  },
  {
   "cell_type": "code",
   "execution_count": 13,
   "metadata": {},
   "outputs": [
    {
     "data": {
      "text/plain": [
       "(0, 1, [2, 3, 4])"
      ]
     },
     "execution_count": 13,
     "metadata": {},
     "output_type": "execute_result"
    }
   ],
   "source": [
    "# O * também pode ser usado para capturar itens excedentes\n",
    "a, b, *rest = range(5)\n",
    "a, b, rest"
   ]
  },
  {
   "cell_type": "code",
   "execution_count": 15,
   "metadata": {},
   "outputs": [
    {
     "data": {
      "text/plain": [
       "(0, 1, [2])"
      ]
     },
     "execution_count": 15,
     "metadata": {},
     "output_type": "execute_result"
    }
   ],
   "source": [
    "a, b, *rest = range(3)\n",
    "a, b, rest"
   ]
  },
  {
   "cell_type": "code",
   "execution_count": 16,
   "metadata": {},
   "outputs": [
    {
     "data": {
      "text/plain": [
       "(0, 1, [])"
      ]
     },
     "execution_count": 16,
     "metadata": {},
     "output_type": "execute_result"
    }
   ],
   "source": [
    "a, b, *rest = range(2)\n",
    "a, b, rest"
   ]
  },
  {
   "cell_type": "code",
   "execution_count": 17,
   "metadata": {},
   "outputs": [
    {
     "data": {
      "text/plain": [
       "([0, 1], 2, 3, 4)"
      ]
     },
     "execution_count": 17,
     "metadata": {},
     "output_type": "execute_result"
    }
   ],
   "source": [
    "# O prefixo * pode aparecer em qualquer posição\n",
    "*head, b, c, d = range(5)\n",
    "head, b, c, d"
   ]
  },
  {
   "cell_type": "code",
   "execution_count": 4,
   "metadata": {},
   "outputs": [
    {
     "name": "stdout",
     "output_type": "stream",
     "text": [
      "                |   lat.    |   long.  \n",
      "Mexico City     |   19.4333 |  -99.1333\n",
      "New York-Newark |   40.8086 |  -74.0209\n",
      "Sao Paulo       |  -23.5478 |  -46.6358\n"
     ]
    }
   ],
   "source": [
    "# Desempacotamento de tuplas aninhadas \n",
    "\n",
    "metro_areas = [\n",
    "    ('Tokyo', 'JP', 36.933, (35.689722, 139.691667)),\n",
    "    ('Delhi NCR', 'IN', 21.935, (28.613889, 77.208889)),\n",
    "    ('Mexico City', 'MX', 20.142, (19.433333, -99.133333)),\n",
    "    ('New York-Newark', 'US', 20.104, (40.808611, -74.02086)),\n",
    "    ('Sao Paulo', 'BR', 19.649, (-23.547778, -46.635833))\n",
    "]\n",
    "\n",
    "print('{:15} | {:^9} | {:^9}'.format('', 'lat.', 'long.'))\n",
    "fmt = '{:15} | {:9.4f} | {:9.4f}'\n",
    "for name, cc, pop, (latitude, longitude) in metro_areas: # Ao atribuir o ultimo campo a uma tupla, desempacotamo-a\n",
    "    if longitude <= 0:\n",
    "        print(fmt.format(name, latitude, longitude))"
   ]
  },
  {
   "cell_type": "code",
   "execution_count": 5,
   "metadata": {},
   "outputs": [
    {
     "name": "stdout",
     "output_type": "stream",
     "text": [
      "City(name='Tokyo', country='JP', population=36.933, coordinates=(35.689722, 139.691667))\n",
      "36.933\n",
      "(35.689722, 139.691667)\n",
      "<class '__main__.City'>\n"
     ]
    }
   ],
   "source": [
    "\"\"\"\n",
    "As tuplas são muito úteis, entretanto ao utilizá-las como registros associar nomes aos campos faz falta,\n",
    "por isso, foram criadas as namedtuple\n",
    "\n",
    "A função collections.namedtuple cria uma subclasse de tuplas com nomes de campos e um nome de classe - o que\n",
    "ajuda no debugging\n",
    "\"\"\"\n",
    "\n",
    "from collections import namedtuple\n",
    "\n",
    "\"\"\"\n",
    "Dois parâmetros devem ser passados: Um nome de classe e uma lista de nomes de campos especificados, como um\n",
    "iterável de strings ou como uma uníca string delimitada por espaços\n",
    "\"\"\"\n",
    "City = namedtuple('City', 'name country population coordinates') # Retorna um objeto chamado City\n",
    "\n",
    "tokyo = City('Tokyo', 'JP', 36.933, (35.689722, 139.691667))\n",
    "print(tokyo)\n",
    "print(tokyo.population)\n",
    "print(tokyo.coordinates)\n",
    "print(type(tokyo))\n"
   ]
  },
  {
   "cell_type": "code",
   "execution_count": 7,
   "metadata": {},
   "outputs": [
    {
     "name": "stdout",
     "output_type": "stream",
     "text": [
      "('name', 'country', 'population', 'coordinates')\n",
      "OrderedDict([('name', 'Delhi NCR'), ('country', 'IN'), ('population', 21.935), ('coordinates', LatLong(lat=28.613889, long=77.208889))])\n",
      "name: Delhi NCR\n",
      "country: IN\n",
      "population: 21.935\n",
      "coordinates: LatLong(lat=28.613889, long=77.208889)\n"
     ]
    }
   ],
   "source": [
    "# Uma namedtuple possui alguns atributos além daqueles herados de tuple\n",
    "print(City._fields) # _fields tupla com nome dos atributos\n",
    "\n",
    "LatLong = namedtuple('LatLong', 'lat long')\n",
    "delhi_data = ('Delhi NCR', 'IN', 21.935, LatLong(28.613889, 77.208889))\n",
    "delhi = City._make(delhi_data) # _make recebe um iterável e instancía uma tupla a partir dele\n",
    "print(delhi._asdict()) # _asdict() retorna um collections.OrderedDict a partir da instância da tupla nomeada\n",
    "for key, value in delhi._asdict().items():\n",
    "    print(key + ':', value)"
   ]
  },
  {
   "cell_type": "markdown",
   "metadata": {},
   "source": [
    "# Slicing\n",
    "\n",
    " O Fatiamento - ou slicing - é um recurso comum, mas poderoso, de list, tuple, str e todos os outros tipos de sequência em Python.\n",
    "\n",
    "### Por que as fatias e os intervalos excluem o último item\n",
    "\n",
    "   * Torna-se fácil visualizar o tamnho de um fatia ou intervalo quando apenas a posição final é especificada:\n",
    "       ``` python\n",
    "       range(3)\n",
    "       my_list[:3]\n",
    "       ```\n",
    "   * É facil calcular o tamanho de um _slice_ ou _interval_ quando o início ou fim são especificados: basta subtrair _stop - start_;\n",
    "   * É facil separar uma sequência em duas partes em qualquer índice x sem que haja sobreposição:\n",
    "       ``` python\n",
    "        l = [10, 20, 30, 40, 50, 60]\n",
    "        l[:2] # Quebra no 2 -> [10, 20]\n",
    "        l[2:] # [30, 40, 50, 60]\n",
    "        l[:3] # Quebra no 3 -> [10, 20, 30]\n",
    "        l[3:] # [40, 50, 60]\n",
    "       ```\n",
    "       \n",
    "## Objetos Slice\n",
    "  Ao utilizarmos uma expressão **[start:stop:step]**, criamos um objeto do tipo slice:slice(a, b, c). Assim, conhecendo os objetos slice, podemos atribuir nomes às fatias"
   ]
  },
  {
   "cell_type": "code",
   "execution_count": 9,
   "metadata": {},
   "outputs": [
    {
     "name": "stdout",
     "output_type": "stream",
     "text": [
      "      $17.50 Pimorini PiBrella                 \n",
      "       $4.95 6mm tactile Switch x20            \n",
      "      $28.00 Panavise Jr . - PV-201            \n",
      "      $34.95 PiTFT Mini Kit 320x240            \n",
      " \n"
     ]
    }
   ],
   "source": [
    "invoice = \"\"\"\n",
    "0.....6...................................40........52...55........\n",
    "1909  Pimorini PiBrella                       $17.50    3    $52.50\n",
    "1489  6mm tactile Switch x20                   $4.95    2     $9.90\n",
    "1510  Panavise Jr . - PV-201                  $28.00    1    $28.00\n",
    "1601  PiTFT Mini Kit 320x240                  $34.95    1    $34.95\n",
    "\"\"\"\n",
    "\n",
    "SKU = slice(0, 6)\n",
    "DESCRIPTION = slice(6, 40)\n",
    "UNIT_PRICE = slice(40, 52)\n",
    "QUANTITY = slice(52, 55)\n",
    "ITEM_TOTAL = slice(55, None)\n",
    "line_items = invoice.split('\\n')[2:]\n",
    "for item in line_items:\n",
    "    print(item[UNIT_PRICE], item[DESCRIPTION]) # Os objetos slice foram utilizados para extrair as informações"
   ]
  },
  {
   "cell_type": "markdown",
   "metadata": {},
   "source": [
    "## Fatiamento Multidimensional e reticências\n",
    "\n",
    "   * O operador [] aceita vários índices ou fatias separados por virgulas. Por exemplo, para fatias multidimensionais pode-se usar:\n",
    "   \n",
    "    ``` python\n",
    "        a[m:n, k:l]\n",
    "    ```\n",
    "   * Para avaliar esse fatiamento, o interpretador Python recebe os índices a[i, j] como uma tupla.\n",
    "     \n",
    "   * As reticências (...) são reconhecidas como um token pelo parser do Python. É um alias para o objeto _Ellipsis_ que é a única instância da classe ellipsis e servem basicamente para abreviar. Por exemplo:\n",
    "    \n",
    "    ``` python\n",
    "        a[i, :, :, :] == a[i, ...]\n",
    "    ```\n",
    "    \n",
    "## Atribuição de valores a fatias\n",
    "\n",
    "   * Sequências mutáveis podem ser completamente modificadas com a notação de slices do lado esquerdo de uma tribuição ou como alvo do comando del;"
   ]
  },
  {
   "cell_type": "code",
   "execution_count": 15,
   "metadata": {},
   "outputs": [
    {
     "data": {
      "text/plain": [
       "[0, 1, 2, 3, 4, 5, 6, 7, 8, 9]"
      ]
     },
     "execution_count": 15,
     "metadata": {},
     "output_type": "execute_result"
    }
   ],
   "source": [
    "l = list(range(10))\n",
    "l"
   ]
  },
  {
   "cell_type": "code",
   "execution_count": 16,
   "metadata": {},
   "outputs": [
    {
     "data": {
      "text/plain": [
       "[0, 1, 20, 30, 5, 6, 7, 8, 9]"
      ]
     },
     "execution_count": 16,
     "metadata": {},
     "output_type": "execute_result"
    }
   ],
   "source": [
    "l[2:5] = [20, 30]\n",
    "l"
   ]
  },
  {
   "cell_type": "code",
   "execution_count": 17,
   "metadata": {},
   "outputs": [
    {
     "data": {
      "text/plain": [
       "[0, 1, 20, 30, 5, 8, 9]"
      ]
     },
     "execution_count": 17,
     "metadata": {},
     "output_type": "execute_result"
    }
   ],
   "source": [
    "del l[5:7]\n",
    "l"
   ]
  },
  {
   "cell_type": "code",
   "execution_count": 18,
   "metadata": {},
   "outputs": [
    {
     "data": {
      "text/plain": [
       "[0, 1, 20, 11, 5, 22, 9]"
      ]
     },
     "execution_count": 18,
     "metadata": {},
     "output_type": "execute_result"
    }
   ],
   "source": [
    "l[3::2] = [11, 22]\n",
    "l"
   ]
  },
  {
   "cell_type": "code",
   "execution_count": 19,
   "metadata": {},
   "outputs": [
    {
     "ename": "TypeError",
     "evalue": "can only assign an iterable",
     "output_type": "error",
     "traceback": [
      "\u001b[0;31m---------------------------------------------------------------------------\u001b[0m",
      "\u001b[0;31mTypeError\u001b[0m                                 Traceback (most recent call last)",
      "\u001b[0;32m<ipython-input-19-da8b10461280>\u001b[0m in \u001b[0;36m<module>\u001b[0;34m\u001b[0m\n\u001b[0;32m----> 1\u001b[0;31m \u001b[0ml\u001b[0m\u001b[0;34m[\u001b[0m\u001b[0;36m2\u001b[0m\u001b[0;34m:\u001b[0m\u001b[0;36m5\u001b[0m\u001b[0;34m]\u001b[0m \u001b[0;34m=\u001b[0m \u001b[0;36m100\u001b[0m\u001b[0;34m\u001b[0m\u001b[0;34m\u001b[0m\u001b[0m\n\u001b[0m",
      "\u001b[0;31mTypeError\u001b[0m: can only assign an iterable"
     ]
    }
   ],
   "source": [
    "l[2:5] = 100"
   ]
  },
  {
   "cell_type": "code",
   "execution_count": 20,
   "metadata": {},
   "outputs": [
    {
     "data": {
      "text/plain": [
       "[0, 1, 100, 22, 9]"
      ]
     },
     "execution_count": 20,
     "metadata": {},
     "output_type": "execute_result"
    }
   ],
   "source": [
    "l[2:5] = [100] # Quando o alvo de atribuição é uma fatia, o lado direito deve ser algo iterável\n",
    "l"
   ]
  },
  {
   "cell_type": "markdown",
   "metadata": {},
   "source": [
    "## Usando + e * em sequências\n",
    "\n",
    "   Geralmente ambos operandos de + devem ser do mesmo tipo da sequência, e nenhum deles será modificado pois será criado uma nova sequência do mesmo tipo como resultado da concatenação.\n",
    "   \n",
    "   * **Tanto + quando * criam um novo objeto e nunca alteram seus operandos**"
   ]
  },
  {
   "cell_type": "code",
   "execution_count": 1,
   "metadata": {},
   "outputs": [
    {
     "name": "stdout",
     "output_type": "stream",
     "text": [
      "[1, 2, 3, 1, 2, 3, 1, 2, 3, 1, 2, 3, 1, 2, 3]\n",
      "abcdabcdabcdabcdabcd\n"
     ]
    }
   ],
   "source": [
    "# Para concatenar diversas cópias da mesma sequência basta multiplicá-la por um inteiro\n",
    "l = [1, 2, 3]\n",
    "print(l * 5)\n",
    "print(5 * 'abcd')"
   ]
  },
  {
   "cell_type": "code",
   "execution_count": 3,
   "metadata": {},
   "outputs": [
    {
     "data": {
      "text/plain": [
       "[[], [], []]"
      ]
     },
     "execution_count": 3,
     "metadata": {},
     "output_type": "execute_result"
    }
   ],
   "source": [
    "# Quanto utilizar a expressão a * n , sendo a uma sequência, com itens mutáveis o resultado é inesperado\n",
    "my_list = [[]] * 3\n",
    "my_list"
   ]
  },
  {
   "cell_type": "markdown",
   "metadata": {},
   "source": [
    "### Criação de Listas de Listas\n",
    "\n",
    "   * O mais correto ao criar uma lista com listas aninhadas é utilizar listcomps;\n",
    "   * Multiplicar uma lista por um número não possui o resultado esperado;"
   ]
  },
  {
   "cell_type": "code",
   "execution_count": 5,
   "metadata": {},
   "outputs": [
    {
     "data": {
      "text/plain": [
       "[['_', '_', '_'], ['_', '_', '_'], ['_', '_', '_']]"
      ]
     },
     "execution_count": 5,
     "metadata": {},
     "output_type": "execute_result"
    }
   ],
   "source": [
    "board = [['_'] * 3 for i in range(3)]\n",
    "board"
   ]
  },
  {
   "cell_type": "code",
   "execution_count": 6,
   "metadata": {},
   "outputs": [
    {
     "data": {
      "text/plain": [
       "[['_', '_', '_'], ['_', '_', '_'], ['_', '_', '_']]"
      ]
     },
     "execution_count": 6,
     "metadata": {},
     "output_type": "execute_result"
    }
   ],
   "source": [
    "weird_board = [['_'] * 3] * 3\n",
    "weird_board # Tudo normal"
   ]
  },
  {
   "cell_type": "code",
   "execution_count": 7,
   "metadata": {},
   "outputs": [
    {
     "data": {
      "text/plain": [
       "[['_', '_', 'O'], ['_', '_', 'O'], ['_', '_', 'O']]"
      ]
     },
     "execution_count": 7,
     "metadata": {},
     "output_type": "execute_result"
    }
   ],
   "source": [
    "weird_board[1][2] = 'O'\n",
    "weird_board # São o mesmo objeto"
   ]
  },
  {
   "cell_type": "code",
   "execution_count": 8,
   "metadata": {},
   "outputs": [
    {
     "name": "stdout",
     "output_type": "stream",
     "text": [
      "[['_', '_', '_'], ['_', '_', '_'], ['_', '_', '_']]\n",
      "[['_', '_', '_'], ['_', '_', '_'], ['_', '_', '_']]\n"
     ]
    }
   ],
   "source": [
    "# O código equivalente ao weird_board é o seguinte\n",
    "row = ['_'] * 3\n",
    "board = []\n",
    "for i in range(3):\n",
    "    board.append(row)\n",
    "print(board)\n",
    "\n",
    "# Enquanto o código equivalente ao board normal é esse\n",
    "board = []\n",
    "for i in range(3):\n",
    "    row = ['_'] * 3 # Cria um novo objeto a cada iteração\n",
    "    board.append(row)\n",
    "print(board)"
   ]
  },
  {
   "cell_type": "markdown",
   "metadata": {},
   "source": [
    "### Atribuições combinadas e sequências\n",
    "   * Os operadores _**+=**_ e _**\\*=**_ se comportam de modo diferente conforme o primeiro operando;\n",
    "   * O dunder method que faz **+=** funcionar é **\\__iadd__** - in-place addition -, no entanto se este não estiver implementado, o Python usará **\\__add__**;\n",
    "   * Se o dunder in-place addition estiver adicionado, uma sequência mutável se comportara como um a.extend(b) - onde b é o próprio a -, caso contrário o interpretador Python convocara o dunder add e um novo objeto será criado;\n",
    "   * O mesmo ocorre para multiplicação - que é aplicada através do **\\__imul__**;\n",
    "   * Em geral, para _**sequências mutáveis**_ é uma boa aposta supor que tais métodos estão implementados."
   ]
  },
  {
   "cell_type": "code",
   "execution_count": 11,
   "metadata": {},
   "outputs": [
    {
     "data": {
      "text/plain": [
       "140544727601792"
      ]
     },
     "execution_count": 11,
     "metadata": {},
     "output_type": "execute_result"
    }
   ],
   "source": [
    "l = [1, 2, 3]\n",
    "id(l)"
   ]
  },
  {
   "cell_type": "code",
   "execution_count": 12,
   "metadata": {},
   "outputs": [
    {
     "data": {
      "text/plain": [
       "[1, 2, 3, 1, 2, 3]"
      ]
     },
     "execution_count": 12,
     "metadata": {},
     "output_type": "execute_result"
    }
   ],
   "source": [
    "l *= 2\n",
    "l"
   ]
  },
  {
   "cell_type": "code",
   "execution_count": 13,
   "metadata": {},
   "outputs": [
    {
     "data": {
      "text/plain": [
       "140544727601792"
      ]
     },
     "execution_count": 13,
     "metadata": {},
     "output_type": "execute_result"
    }
   ],
   "source": [
    "id(l) # Após a multiplicação, a lista será o mesmo objeto mas modificado"
   ]
  },
  {
   "cell_type": "code",
   "execution_count": 16,
   "metadata": {},
   "outputs": [
    {
     "data": {
      "text/plain": [
       "140544727901840"
      ]
     },
     "execution_count": 16,
     "metadata": {},
     "output_type": "execute_result"
    }
   ],
   "source": [
    "t = (1, 2, 3)\n",
    "id(t)"
   ]
  },
  {
   "cell_type": "code",
   "execution_count": 17,
   "metadata": {},
   "outputs": [
    {
     "data": {
      "text/plain": [
       "140544466187552"
      ]
     },
     "execution_count": 17,
     "metadata": {},
     "output_type": "execute_result"
    }
   ],
   "source": [
    "t *= 2\n",
    "id(t) # Após a multiplicação, uma nova tupla foi criada"
   ]
  },
  {
   "cell_type": "markdown",
   "metadata": {},
   "source": [
    " A concatenação rápida de sequências imutáveis é **ineficiente**, pois o interpretador precisa copiar toda a sequência-alvo para criar uma nova sequência com os itens concatenados."
   ]
  },
  {
   "cell_type": "code",
   "execution_count": 18,
   "metadata": {},
   "outputs": [
    {
     "ename": "TypeError",
     "evalue": "'tuple' object does not support item assignment",
     "output_type": "error",
     "traceback": [
      "\u001b[0;31m---------------------------------------------------------------------------\u001b[0m",
      "\u001b[0;31mTypeError\u001b[0m                                 Traceback (most recent call last)",
      "\u001b[0;32m<ipython-input-18-70b511c2b084>\u001b[0m in \u001b[0;36m<module>\u001b[0;34m\u001b[0m\n\u001b[1;32m      1\u001b[0m \u001b[0;31m# O enigma da atribuição +=\u001b[0m\u001b[0;34m\u001b[0m\u001b[0;34m\u001b[0m\u001b[0;34m\u001b[0m\u001b[0m\n\u001b[1;32m      2\u001b[0m \u001b[0mt\u001b[0m \u001b[0;34m=\u001b[0m \u001b[0;34m(\u001b[0m\u001b[0;36m1\u001b[0m\u001b[0;34m,\u001b[0m \u001b[0;36m2\u001b[0m\u001b[0;34m,\u001b[0m \u001b[0;34m[\u001b[0m\u001b[0;36m30\u001b[0m\u001b[0;34m,\u001b[0m \u001b[0;36m40\u001b[0m\u001b[0;34m]\u001b[0m\u001b[0;34m)\u001b[0m\u001b[0;34m\u001b[0m\u001b[0;34m\u001b[0m\u001b[0m\n\u001b[0;32m----> 3\u001b[0;31m \u001b[0mt\u001b[0m\u001b[0;34m[\u001b[0m\u001b[0;36m2\u001b[0m\u001b[0;34m]\u001b[0m \u001b[0;34m+=\u001b[0m \u001b[0;34m[\u001b[0m\u001b[0;36m50\u001b[0m\u001b[0;34m,\u001b[0m \u001b[0;36m60\u001b[0m\u001b[0;34m]\u001b[0m\u001b[0;34m\u001b[0m\u001b[0;34m\u001b[0m\u001b[0m\n\u001b[0m",
      "\u001b[0;31mTypeError\u001b[0m: 'tuple' object does not support item assignment"
     ]
    }
   ],
   "source": [
    "# O enigma da atribuição +=\n",
    "t = (1, 2, [30, 40])\n",
    "t[2] += [50, 60]"
   ]
  },
  {
   "cell_type": "code",
   "execution_count": 19,
   "metadata": {},
   "outputs": [
    {
     "data": {
      "text/plain": [
       "(1, 2, [30, 40, 50, 60])"
      ]
     },
     "execution_count": 19,
     "metadata": {},
     "output_type": "execute_result"
    }
   ],
   "source": [
    "t # Apesar de levantar o erro, a lista recebe a atribuição"
   ]
  },
  {
   "cell_type": "code",
   "execution_count": 21,
   "metadata": {},
   "outputs": [
    {
     "name": "stdout",
     "output_type": "stream",
     "text": [
      "  1           0 LOAD_NAME                0 (s)\n",
      "              2 LOAD_NAME                1 (a)\n",
      "              4 DUP_TOP_TWO\n",
      "              6 BINARY_SUBSCR\n",
      "              8 LOAD_NAME                2 (b)\n",
      "             10 INPLACE_ADD\n",
      "             12 ROT_THREE\n",
      "             14 STORE_SUBSCR\n",
      "             16 LOAD_CONST               0 (None)\n",
      "             18 RETURN_VALUE\n"
     ]
    }
   ],
   "source": [
    "import dis\n",
    "\n",
    "dis.dis('s[a] += b') # Bytecode herado pelo Python para a expressão"
   ]
  },
  {
   "cell_type": "markdown",
   "metadata": {},
   "source": [
    "   * 3 Lições para serem tiradas disso:\n",
    "       - Colocar itens mutáveis em tuplas não é uma boa ideia;\n",
    "       - Uma atribuição combinada não é uma operação atômica;\n",
    "       - Inspecionar bytecodes Python não é muito difícil e pode ajudar a ver o processo interno;\n",
    "       \n",
    "# list.sort() e sorted()\n",
    "\n",
    "   - O Método __*list.sort*__:\n",
    "       * Ordena uma lista in-place - isto é, sem criar uma cópia;\n",
    "       * Devido à convenção da API de Python, retorna _None_ o que significa que nenhum objeto foi criado, mas que quem invocou foi alterado.\n",
    "   - Função embutida __*sorted()*__:\n",
    "       * Aceita qualquer objeto iterável como argumento, incluindo sequências imutáveis;\n",
    "       * Retorna um novo objeto.\n",
    "   - Ambas funções aceitam dois parâmetros nomeados:\n",
    "       * **Reverse:** Se for *True* os itens serão devolvidos em ordem decrescente. *default=False*.\n",
    "       * **Key:** Função de um só argumento aplicada a cada item para gerar sua chave de ordenação. Por exemplo, *key=str.lower* pode ser usada para ordenadar sem levar em consideração o *case*, assim como *str.len* pode ser usado para ordenar de acordo com o tamanho. O default é a função identidade."
   ]
  },
  {
   "cell_type": "code",
   "execution_count": 9,
   "metadata": {},
   "outputs": [],
   "source": [
    "fruits = ['grape', 'raspberry', 'apple', 'banana']"
   ]
  },
  {
   "cell_type": "code",
   "execution_count": 10,
   "metadata": {},
   "outputs": [
    {
     "data": {
      "text/plain": [
       "['apple', 'banana', 'grape', 'raspberry']"
      ]
     },
     "execution_count": 10,
     "metadata": {},
     "output_type": "execute_result"
    }
   ],
   "source": [
    "sorted(fruits)"
   ]
  },
  {
   "cell_type": "code",
   "execution_count": 11,
   "metadata": {},
   "outputs": [
    {
     "data": {
      "text/plain": [
       "['grape', 'raspberry', 'apple', 'banana']"
      ]
     },
     "execution_count": 11,
     "metadata": {},
     "output_type": "execute_result"
    }
   ],
   "source": [
    "fruits"
   ]
  },
  {
   "cell_type": "code",
   "execution_count": 12,
   "metadata": {},
   "outputs": [
    {
     "data": {
      "text/plain": [
       "['raspberry', 'grape', 'banana', 'apple']"
      ]
     },
     "execution_count": 12,
     "metadata": {},
     "output_type": "execute_result"
    }
   ],
   "source": [
    "sorted(fruits, reverse=True)"
   ]
  },
  {
   "cell_type": "code",
   "execution_count": 13,
   "metadata": {},
   "outputs": [
    {
     "data": {
      "text/plain": [
       "['grape', 'apple', 'banana', 'raspberry']"
      ]
     },
     "execution_count": 13,
     "metadata": {},
     "output_type": "execute_result"
    }
   ],
   "source": [
    "sorted(fruits, key=len)"
   ]
  },
  {
   "cell_type": "code",
   "execution_count": 14,
   "metadata": {},
   "outputs": [
    {
     "data": {
      "text/plain": [
       "['raspberry', 'banana', 'grape', 'apple']"
      ]
     },
     "execution_count": 14,
     "metadata": {},
     "output_type": "execute_result"
    }
   ],
   "source": [
    "sorted(fruits, key=len, reverse=True)"
   ]
  },
  {
   "cell_type": "code",
   "execution_count": 15,
   "metadata": {},
   "outputs": [
    {
     "data": {
      "text/plain": [
       "['grape', 'raspberry', 'apple', 'banana']"
      ]
     },
     "execution_count": 15,
     "metadata": {},
     "output_type": "execute_result"
    }
   ],
   "source": [
    "fruits"
   ]
  },
  {
   "cell_type": "code",
   "execution_count": 17,
   "metadata": {},
   "outputs": [
    {
     "data": {
      "text/plain": [
       "['apple', 'banana', 'grape', 'raspberry']"
      ]
     },
     "execution_count": 17,
     "metadata": {},
     "output_type": "execute_result"
    }
   ],
   "source": [
    "fruits.sort()\n",
    "fruits"
   ]
  },
  {
   "cell_type": "markdown",
   "metadata": {},
   "source": [
    "## Administrando sequências ordenadas com bisect\n",
    "   * O módulo __*bisect*__ possui duas funções principais que usam o algoritmo de busca binária para encontrar rapidamente e inserir itens em qualquer **sequência ordenada:**\n",
    "       - *__bisect(haystack, needle)__*:\n",
    "           - **needle:** item a ser inserido;\n",
    "           - **haystack:** sequência ordenada que permanecerá em ordem crescente;\n",
    "       - *__insort(seq, item)__*: Insere mantendo a ordem crescente\n",
    "           - **seq:** Sequência;\n",
    "           - **item:** item a ser inserido;\n",
    "       - Ambos aceitam argumentos *__log__* e *__hi__* para limitar a pesquisa a uma subsequência.\n",
    "       - Ambos possuem uma variação __*left*__ que invertem para o ponto de inserção.           "
   ]
  },
  {
   "cell_type": "code",
   "execution_count": 2,
   "metadata": {},
   "outputs": [
    {
     "name": "stdout",
     "output_type": "stream",
     "text": [
      "DEMO: bisect_right\n",
      "hastack ->  1  4  5  6  8 12 15 20 21 23 23 26 29 30\n",
      "31 @ 14  | | | | | | | | | | | | | |31\n",
      "30 @ 14  | | | | | | | | | | | | | |30\n",
      "29 @ 13  | | | | | | | | | | | | |29\n",
      "23 @ 11  | | | | | | | | | | |23\n",
      "22 @  9  | | | | | | | | |22\n",
      "12 @  6  | | | | | |12\n",
      " 8 @  5  | | | | |8\n",
      " 5 @  3  | | |5\n",
      " 2 @  1  |2\n",
      " 1 @  1  |1\n",
      " 0 @  0 0\n"
     ]
    }
   ],
   "source": [
    "# bisect.bisect\n",
    "\n",
    "import bisect\n",
    "import sys\n",
    "\n",
    "HAYSTACK = [1, 4, 5, 6, 8, 12, 15, 20, 21, 23, 23, 26, 29, 30]\n",
    "NEEDLES = [0, 1, 2, 5, 8, 12, 22, 23, 29, 30, 31]\n",
    "\n",
    "ROW_FMT = '{0:2d} @ {1:2d} {2}{0:2<d}'\n",
    "\n",
    "def demo(bisect_fn):\n",
    "    for needle in reversed(NEEDLES):\n",
    "        position = bisect_fn(HAYSTACK, needle)\n",
    "        offset = position * ' |'\n",
    "        print(ROW_FMT.format(needle, position, offset))\n",
    "\n",
    "if __name__ == '__main__':\n",
    "    if sys.argv[-1] == 'left':\n",
    "        bisect_fn = bisect.bisect_left\n",
    "    else:\n",
    "        bisect_fn = bisect.bisect\n",
    "        \n",
    "print('DEMO:', bisect_fn.__name__)\n",
    "print('hastack ->', ' '.join('%2d' % n for n in HAYSTACK))\n",
    "demo(bisect_fn)"
   ]
  },
  {
   "cell_type": "code",
   "execution_count": 3,
   "metadata": {},
   "outputs": [
    {
     "data": {
      "text/plain": [
       "['F', 'A', 'C', 'C', 'B', 'A', 'A']"
      ]
     },
     "execution_count": 3,
     "metadata": {},
     "output_type": "execute_result"
    }
   ],
   "source": [
    "# Uma aplicação interessante é a pesquisa de valores numéricos em tabelas\n",
    "def grade(score, breakpoints=[60, 70, 80, 90], grades='FDCBA'):\n",
    "    i = bisect.bisect(breakpoints, score)\n",
    "    return grades[i]\n",
    "\n",
    "[grade(score) for score in [33, 99, 77, 70, 89, 90, 100]]"
   ]
  },
  {
   "cell_type": "code",
   "execution_count": 9,
   "metadata": {},
   "outputs": [
    {
     "name": "stdout",
     "output_type": "stream",
     "text": [
      "10 -> [10]\n",
      " 0 -> [0, 10]\n",
      " 6 -> [0, 6, 10]\n",
      " 8 -> [0, 6, 8, 10]\n",
      " 7 -> [0, 6, 7, 8, 10]\n",
      " 2 -> [0, 2, 6, 7, 8, 10]\n",
      "10 -> [0, 2, 6, 7, 8, 10, 10]\n"
     ]
    }
   ],
   "source": [
    "# bisect.insort\n",
    "\n",
    "import bisect\n",
    "import random\n",
    "\n",
    "SIZE = 7\n",
    "\n",
    "random.seed(1729)\n",
    "\n",
    "my_list = []\n",
    "for i in range(SIZE):\n",
    "    new_item = random.randrange(SIZE*2)\n",
    "    bisect.insort(my_list, new_item)\n",
    "    print('%2d ->' % new_item, my_list)"
   ]
  },
  {
   "cell_type": "markdown",
   "metadata": {},
   "source": [
    "## Quando uma lista não é a resposta\n",
    "\n",
    "  <p>Apesar de ser flexível e fácil de usar, às vezes há opções melhores do que listas. Por exemplo, ao armazenar dez milhões de <i>floating points</i> um <i>array</i> é mais eficaz pois armazena apenas os bytes compactos que representam os valores dos objetos na maquina. Além disso, se for adicionar e remover itens constatemente das extremidades da lista como uma estrutura de dados <b>FIFO</b> ou ,<b>LIFO,</b>, um <i>deque</i>(double-ended queue) será mais rápido. Para verificações rápidas, <i>sets</i> são mais recomendados.</p>\n",
    "  \n",
    "# Arrays\n",
    "\n",
    "   * Se a lista contiver somente números, um _array_ será mais eficiente que uma lista.\n",
    "   * Ele aceita todas as operações de sequências mutáveis, além de ter métodos adicionar para carregar e salvar rapidamente.\n",
    "   * Ao criar um _**array**_, deve ser fornecido um typecode que determina o tipo que será armazenado no array, isto auxilia na economia da memória."
   ]
  },
  {
   "cell_type": "code",
   "execution_count": 1,
   "metadata": {},
   "outputs": [],
   "source": [
    "from array import array\n",
    "from random import random\n",
    "\n",
    "floats = array('d', (random() for i in range(10**7)))"
   ]
  },
  {
   "cell_type": "code",
   "execution_count": 2,
   "metadata": {},
   "outputs": [
    {
     "data": {
      "text/plain": [
       "0.4069499863339914"
      ]
     },
     "execution_count": 2,
     "metadata": {},
     "output_type": "execute_result"
    }
   ],
   "source": [
    "floats[-1] # Inspeciona o último numero do array"
   ]
  },
  {
   "cell_type": "code",
   "execution_count": 5,
   "metadata": {},
   "outputs": [],
   "source": [
    "fp = open('floats.bin', 'wb')\n",
    "floats.tofile(fp) # Salva o array em um arquivo binário\n",
    "fp.close()\n",
    "\n",
    "floats2 = array('d') # Cria um array vazio de doubles\n",
    "fp = open('floats.bin', 'rb') \n",
    "floats2.fromfile(fp, 10**7) # Lê dez milhões de números do arquivo binário\n",
    "fp.close()"
   ]
  },
  {
   "cell_type": "code",
   "execution_count": 6,
   "metadata": {},
   "outputs": [
    {
     "data": {
      "text/plain": [
       "0.4069499863339914"
      ]
     },
     "execution_count": 6,
     "metadata": {},
     "output_type": "execute_result"
    }
   ],
   "source": [
    "floats2[-1]"
   ]
  },
  {
   "cell_type": "code",
   "execution_count": 7,
   "metadata": {},
   "outputs": [
    {
     "data": {
      "text/plain": [
       "True"
      ]
     },
     "execution_count": 7,
     "metadata": {},
     "output_type": "execute_result"
    }
   ],
   "source": [
    "floats2 == floats # Verifica se os conteúdos coincidem"
   ]
  },
  {
   "cell_type": "markdown",
   "metadata": {},
   "source": [
    "## Memory View\n",
    "\n",
    "   * Classe embutida que é um tipo de sequência de memória compartilhada que permite lidar com fatias de arrays sem copiar os bytes.\n",
    "   * Permite compartilhar memória entre estruturas de dados sem fazer uma cópia inicial **->** Muito importante para conjuntos grandes de dados.\n",
    "   * Assim como o array, o método _memoryview.cast_ permite alterar o modo como bytes são lidos ou escritos sem movê-los."
   ]
  },
  {
   "cell_type": "code",
   "execution_count": 4,
   "metadata": {},
   "outputs": [],
   "source": [
    "numbers = array('h', [-2, -1, 0, 1, 2])\n",
    "memv = memoryview(numbers)"
   ]
  },
  {
   "cell_type": "code",
   "execution_count": 5,
   "metadata": {},
   "outputs": [
    {
     "data": {
      "text/plain": [
       "5"
      ]
     },
     "execution_count": 5,
     "metadata": {},
     "output_type": "execute_result"
    }
   ],
   "source": [
    "len(memv)"
   ]
  },
  {
   "cell_type": "code",
   "execution_count": 6,
   "metadata": {},
   "outputs": [
    {
     "data": {
      "text/plain": [
       "-2"
      ]
     },
     "execution_count": 6,
     "metadata": {},
     "output_type": "execute_result"
    }
   ],
   "source": [
    "memv[0]"
   ]
  },
  {
   "cell_type": "code",
   "execution_count": 8,
   "metadata": {},
   "outputs": [
    {
     "data": {
      "text/plain": [
       "[254, 255, 255, 255, 0, 0, 1, 0, 2, 0]"
      ]
     },
     "execution_count": 8,
     "metadata": {},
     "output_type": "execute_result"
    }
   ],
   "source": [
    "memv_oct = memv.cast('B') # Casting para o tipo B (unsigned char)\n",
    "memv_oct.tolist()"
   ]
  },
  {
   "cell_type": "code",
   "execution_count": 10,
   "metadata": {},
   "outputs": [
    {
     "data": {
      "text/plain": [
       "array('h', [-2, -1, 1024, 1, 2])"
      ]
     },
     "execution_count": 10,
     "metadata": {},
     "output_type": "execute_result"
    }
   ],
   "source": [
    "memv_oct[5] = 4\n",
    "numbers"
   ]
  },
  {
   "cell_type": "markdown",
   "metadata": {},
   "source": [
    "# Deques e outras queues\n",
    "\n",
    "   * Removes itens da esquerda de uma lista é muito custoso pois tem que deslocar toda ela.\n",
    "   * _collections.deque_ é uma fila dupla thread-safe utilizada para inserções e remoções rápidas nas extremidades.\n",
    "   * Muito útil quando houver necessidade de manter uma lista dos \"últimos itens vistos\", por exemplo."
   ]
  },
  {
   "cell_type": "code",
   "execution_count": 17,
   "metadata": {},
   "outputs": [
    {
     "data": {
      "text/plain": [
       "deque([0, 1, 2, 3, 4, 5, 6, 7, 8, 9])"
      ]
     },
     "execution_count": 17,
     "metadata": {},
     "output_type": "execute_result"
    }
   ],
   "source": [
    "from collections import deque\n",
    "dq = deque(range(10), maxlen=10) # maxlen -> Número máximo de itens permitidos\n",
    "dq"
   ]
  },
  {
   "cell_type": "code",
   "execution_count": 18,
   "metadata": {},
   "outputs": [
    {
     "data": {
      "text/plain": [
       "deque([7, 8, 9, 0, 1, 2, 3, 4, 5, 6])"
      ]
     },
     "execution_count": 18,
     "metadata": {},
     "output_type": "execute_result"
    }
   ],
   "source": [
    "dq.rotate(3) # N > 0 retira da direita e coloca na esquerda\n",
    "dq"
   ]
  },
  {
   "cell_type": "code",
   "execution_count": 19,
   "metadata": {},
   "outputs": [
    {
     "data": {
      "text/plain": [
       "deque([1, 2, 3, 4, 5, 6, 7, 8, 9, 0])"
      ]
     },
     "execution_count": 19,
     "metadata": {},
     "output_type": "execute_result"
    }
   ],
   "source": [
    "dq.rotate(-4) # N < 0 retira da esquerda e coloca na direita\n",
    "dq"
   ]
  },
  {
   "cell_type": "code",
   "execution_count": 20,
   "metadata": {},
   "outputs": [
    {
     "data": {
      "text/plain": [
       "deque([-1, 1, 2, 3, 4, 5, 6, 7, 8, 9])"
      ]
     },
     "execution_count": 20,
     "metadata": {},
     "output_type": "execute_result"
    }
   ],
   "source": [
    "dq.appendleft(-1)\n",
    "dq"
   ]
  },
  {
   "cell_type": "code",
   "execution_count": 21,
   "metadata": {},
   "outputs": [],
   "source": [
    "dq.extend([11, 22, 33]) # Concatenar itens que ultrapassariam o maxlen exclui os da outra extremidade"
   ]
  },
  {
   "cell_type": "code",
   "execution_count": 22,
   "metadata": {},
   "outputs": [
    {
     "data": {
      "text/plain": [
       "deque([3, 4, 5, 6, 7, 8, 9, 11, 22, 33])"
      ]
     },
     "execution_count": 22,
     "metadata": {},
     "output_type": "execute_result"
    }
   ],
   "source": [
    "dq"
   ]
  },
  {
   "cell_type": "code",
   "execution_count": 23,
   "metadata": {},
   "outputs": [
    {
     "data": {
      "text/plain": [
       "deque([40, 30, 20, 10, 3, 4, 5, 6, 7, 8])"
      ]
     },
     "execution_count": 23,
     "metadata": {},
     "output_type": "execute_result"
    }
   ],
   "source": [
    "dq.extendleft([10, 20, 30, 40])\n",
    "dq"
   ]
  },
  {
   "cell_type": "code",
   "execution_count": null,
   "metadata": {},
   "outputs": [],
   "source": []
  }
 ],
 "metadata": {
  "kernelspec": {
   "display_name": "Python 3",
   "language": "python",
   "name": "python3"
  },
  "language_info": {
   "codemirror_mode": {
    "name": "ipython",
    "version": 3
   },
   "file_extension": ".py",
   "mimetype": "text/x-python",
   "name": "python",
   "nbconvert_exporter": "python",
   "pygments_lexer": "ipython3",
   "version": "3.7.4"
  }
 },
 "nbformat": 4,
 "nbformat_minor": 2
}
